{
 "cells": [
  {
   "cell_type": "code",
   "execution_count": 1,
   "outputs": [
    {
     "name": "stderr",
     "output_type": "stream",
     "text": [
      "PyTerrier 0.8.0 has loaded Terrier 5.6 (built by craigmacdonald on 2021-09-17 13:27)\n",
      "\n",
      "No etc/terrier.properties, using terrier.default.properties for bootstrap configuration.\n"
     ]
    }
   ],
   "source": [
    "# Start/initialize PyTerrier.\n",
    "from pyterrier import started, init\n",
    "\n",
    "if not started():\n",
    "    init(tqdm=\"auto\")"
   ],
   "metadata": {
    "collapsed": false,
    "pycharm": {
     "name": "#%%\n"
    }
   }
  },
  {
   "cell_type": "code",
   "execution_count": 2,
   "outputs": [],
   "source": [
    "from pyterrier.datasets import get_dataset, Dataset\n",
    "\n",
    "# Load dataset.\n",
    "dataset_name = \"msmarco-passage\"\n",
    "dataset: Dataset = get_dataset(f\"irds:{dataset_name}\")\n",
    "dataset_train: Dataset = get_dataset(f\"irds:{dataset_name}/trec-dl-2019/judged\")\n",
    "dataset_test: Dataset = get_dataset(f\"irds:{dataset_name}/trec-dl-2020/judged\")"
   ],
   "metadata": {
    "collapsed": false,
    "pycharm": {
     "name": "#%%\n"
    }
   }
  },
  {
   "cell_type": "code",
   "execution_count": 3,
   "outputs": [],
   "source": [
    "from pathlib import Path\n",
    "\n",
    "cache_dir = Path(\"cache/\")\n",
    "index_dir = cache_dir / \"indices\" / dataset_name.split(\"/\")[0]"
   ],
   "metadata": {
    "collapsed": false,
    "pycharm": {
     "name": "#%%\n"
    }
   }
  },
  {
   "cell_type": "code",
   "execution_count": 4,
   "outputs": [],
   "source": [
    "from pyterrier.index import IterDictIndexer\n",
    "\n",
    "if not index_dir.exists():\n",
    "    indexer = IterDictIndexer(str(index_dir.absolute()))\n",
    "    indexer.index(\n",
    "        dataset.get_corpus_iter(),\n",
    "        fields=[\"text\"]\n",
    "    )"
   ],
   "metadata": {
    "collapsed": false,
    "pycharm": {
     "name": "#%%\n"
    }
   }
  },
  {
   "cell_type": "code",
   "execution_count": 5,
   "outputs": [],
   "source": [
    "from pyterrier.batchretrieve import BatchRetrieve\n",
    "\n",
    "# BM25 baseline retrieval.\n",
    "bm25 = BatchRetrieve(str(index_dir.absolute()), wmodel=\"BM25\")"
   ],
   "metadata": {
    "collapsed": false,
    "pycharm": {
     "name": "#%%\n"
    }
   }
  },
  {
   "cell_type": "code",
   "execution_count": 6,
   "outputs": [],
   "source": [
    "from ir_axioms.axiom import (\n",
    "    ArgUC, QTArg, QTPArg, aSL, PROX1, PROX2, PROX3, PROX4, PROX5, TFC1, TFC3, RS_TF, RS_TF_IDF, RS_BM25, RS_PL2, RS_QL,\n",
    "    AND, LEN_AND, M_AND, LEN_M_AND, DIV, LEN_DIV, M_TDC, LEN_M_TDC, STMC1, STMC1_f, STMC2, STMC2_f, LNC1, TF_LNC, LB1,\n",
    "    REG, ANTI_REG, REG_f, ANTI_REG_f, ASPECT_REG, ASPECT_REG_f, ORIG\n",
    ")\n",
    "\n",
    "axioms = [\n",
    "    ~ArgUC(), ~QTArg(), ~QTPArg(), ~aSL(),\n",
    "    ~LNC1(), ~TF_LNC(), ~LB1(),\n",
    "    ~PROX1(), ~PROX2(), ~PROX3(), ~PROX4(), ~PROX5(),\n",
    "    ~REG(), ~REG_f(), ~ANTI_REG(), ~ANTI_REG_f(), ~ASPECT_REG(), ~ASPECT_REG_f(),\n",
    "    ~AND(), ~LEN_AND(), ~M_AND(), ~LEN_M_AND(), ~DIV(), ~LEN_DIV(),\n",
    "    ~RS_TF(), ~RS_TF_IDF(), ~RS_BM25(), ~RS_PL2(), ~RS_QL(),\n",
    "    ~TFC1(), ~TFC3(), ~M_TDC(), ~LEN_M_TDC(),\n",
    "    ~STMC1(), ~STMC1_f(), ~STMC2(), ~STMC2_f(),\n",
    "]\n",
    "axiom_names = [axiom.axiom.name for axiom in axioms]"
   ],
   "metadata": {
    "collapsed": false,
    "pycharm": {
     "name": "#%%\n"
    }
   }
  },
  {
   "cell_type": "code",
   "execution_count": 7,
   "outputs": [],
   "source": [
    "from ir_axioms.backend.pyterrier.experiment import AxiomaticExperiment\n",
    "\n",
    "experiment = AxiomaticExperiment(\n",
    "    retrieval_systems=[bm25],\n",
    "    topics=dataset_test.get_topics(),\n",
    "    qrels=dataset_test.get_qrels(),\n",
    "    index=index_dir,\n",
    "    dataset=dataset_name,\n",
    "    axioms=axioms,\n",
    "    axiom_names=axiom_names,\n",
    "    depth=10,\n",
    "    filter_by_qrels=False,\n",
    "    filter_by_topics=False,\n",
    "    verbose=True,\n",
    "    cache_dir=cache_dir,\n",
    ")"
   ],
   "metadata": {
    "collapsed": false,
    "pycharm": {
     "name": "#%%\n"
    }
   }
  },
  {
   "cell_type": "code",
   "execution_count": 8,
   "outputs": [
    {
     "data": {
      "text/plain": "Computing system axiomatic preferences:   0%|          | 0/1 [00:00<?, ?system/s]",
      "application/vnd.jupyter.widget-view+json": {
       "version_major": 2,
       "version_minor": 0,
       "model_id": "ff4d4477ba894c9a97fcb9a2107e9c5e"
      }
     },
     "metadata": {},
     "output_type": "display_data"
    },
    {
     "data": {
      "text/plain": "Computing query axiom preferences:   0%|          | 0/54 [00:00<?, ?query/s]",
      "application/vnd.jupyter.widget-view+json": {
       "version_major": 2,
       "version_minor": 0,
       "model_id": "448be720339e4034be5dfe37a94b9bc4"
      }
     },
     "metadata": {},
     "output_type": "display_data"
    },
    {
     "data": {
      "text/plain": "          qid  docid_a  docno_a  rank_a    score_a  \\\n0     1030303  8726436  8726436       0  54.354218   \n1     1030303  8726436  8726436       0  54.354218   \n2     1030303  8726436  8726436       0  54.354218   \n3     1030303  8726436  8726436       0  54.354218   \n4     1030303  8726436  8726436       0  54.354218   \n...       ...      ...      ...     ...        ...   \n5395   997622  7965342  7965342       9  30.023091   \n5396   997622  7965342  7965342       9  30.023091   \n5397   997622  7965342  7965342       9  30.023091   \n5398   997622  7965342  7965342       9  30.023091   \n5399   997622  7965342  7965342       9  30.023091   \n\n                                   query  label_a iteration_a  docid_b  \\\n0                     who is aziz hashim      3.0           0  8726436   \n1                     who is aziz hashim      3.0           0  8726433   \n2                     who is aziz hashim      3.0           0  8726435   \n3                     who is aziz hashim      3.0           0  8726429   \n4                     who is aziz hashim      3.0           0  8726437   \n...                                  ...      ...         ...      ...   \n5395  where is the show shameless filmed      0.0           0  4643397   \n5396  where is the show shameless filmed      0.0           0  4518222   \n5397  where is the show shameless filmed      0.0           0  4810071   \n5398  where is the show shameless filmed      0.0           0  4558331   \n5399  where is the show shameless filmed      0.0           0  7965342   \n\n      docno_b  ...  RS-PL2_preference  RS-QL_preference  TFC1_preference  \\\n0     8726436  ...                  0                 0                0   \n1     8726433  ...                  1                 1                0   \n2     8726435  ...                  1                 1                0   \n3     8726429  ...                  1                 1               -1   \n4     8726437  ...                  1                 1                0   \n...       ...  ...                ...               ...              ...   \n5395  4643397  ...                  1                -1                0   \n5396  4518222  ...                  1                -1                0   \n5397  4810071  ...                 -1                -1                0   \n5398  4558331  ...                  1                -1                0   \n5399  7965342  ...                  0                 0                0   \n\n     TFC3_preference  M-TDC_preference  LEN-M-TDC_preference  \\\n0                  0                 0                     0   \n1                  0                 0                     0   \n2                  0                 0                     0   \n3                  0                 0                     0   \n4                  0                 0                     0   \n...              ...               ...                   ...   \n5395               0                 0                     0   \n5396               0                 0                     0   \n5397               0                 0                     0   \n5398               0                 0                     0   \n5399               0                 0                     0   \n\n      STMC1_preference  STMC1-fastText_preference  STMC2_preference  \\\n0                    0                          0                 0   \n1                    1                          1                 0   \n2                    1                          1                 0   \n3                    1                          1                 0   \n4                   -1                          1                 0   \n...                ...                        ...               ...   \n5395                -1                          1                 0   \n5396                 1                          1                 0   \n5397                -1                          1                 0   \n5398                 1                          1                 0   \n5399                 0                          0                 0   \n\n      STMC2-fastText_preference  \n0                             0  \n1                             0  \n2                             0  \n3                             0  \n4                            -1  \n...                         ...  \n5395                         -1  \n5396                          0  \n5397                          0  \n5398                          0  \n5399                          0  \n\n[5400 rows x 53 columns]",
      "text/html": "<div>\n<style scoped>\n    .dataframe tbody tr th:only-of-type {\n        vertical-align: middle;\n    }\n\n    .dataframe tbody tr th {\n        vertical-align: top;\n    }\n\n    .dataframe thead th {\n        text-align: right;\n    }\n</style>\n<table border=\"1\" class=\"dataframe\">\n  <thead>\n    <tr style=\"text-align: right;\">\n      <th></th>\n      <th>qid</th>\n      <th>docid_a</th>\n      <th>docno_a</th>\n      <th>rank_a</th>\n      <th>score_a</th>\n      <th>query</th>\n      <th>label_a</th>\n      <th>iteration_a</th>\n      <th>docid_b</th>\n      <th>docno_b</th>\n      <th>...</th>\n      <th>RS-PL2_preference</th>\n      <th>RS-QL_preference</th>\n      <th>TFC1_preference</th>\n      <th>TFC3_preference</th>\n      <th>M-TDC_preference</th>\n      <th>LEN-M-TDC_preference</th>\n      <th>STMC1_preference</th>\n      <th>STMC1-fastText_preference</th>\n      <th>STMC2_preference</th>\n      <th>STMC2-fastText_preference</th>\n    </tr>\n  </thead>\n  <tbody>\n    <tr>\n      <th>0</th>\n      <td>1030303</td>\n      <td>8726436</td>\n      <td>8726436</td>\n      <td>0</td>\n      <td>54.354218</td>\n      <td>who is aziz hashim</td>\n      <td>3.0</td>\n      <td>0</td>\n      <td>8726436</td>\n      <td>8726436</td>\n      <td>...</td>\n      <td>0</td>\n      <td>0</td>\n      <td>0</td>\n      <td>0</td>\n      <td>0</td>\n      <td>0</td>\n      <td>0</td>\n      <td>0</td>\n      <td>0</td>\n      <td>0</td>\n    </tr>\n    <tr>\n      <th>1</th>\n      <td>1030303</td>\n      <td>8726436</td>\n      <td>8726436</td>\n      <td>0</td>\n      <td>54.354218</td>\n      <td>who is aziz hashim</td>\n      <td>3.0</td>\n      <td>0</td>\n      <td>8726433</td>\n      <td>8726433</td>\n      <td>...</td>\n      <td>1</td>\n      <td>1</td>\n      <td>0</td>\n      <td>0</td>\n      <td>0</td>\n      <td>0</td>\n      <td>1</td>\n      <td>1</td>\n      <td>0</td>\n      <td>0</td>\n    </tr>\n    <tr>\n      <th>2</th>\n      <td>1030303</td>\n      <td>8726436</td>\n      <td>8726436</td>\n      <td>0</td>\n      <td>54.354218</td>\n      <td>who is aziz hashim</td>\n      <td>3.0</td>\n      <td>0</td>\n      <td>8726435</td>\n      <td>8726435</td>\n      <td>...</td>\n      <td>1</td>\n      <td>1</td>\n      <td>0</td>\n      <td>0</td>\n      <td>0</td>\n      <td>0</td>\n      <td>1</td>\n      <td>1</td>\n      <td>0</td>\n      <td>0</td>\n    </tr>\n    <tr>\n      <th>3</th>\n      <td>1030303</td>\n      <td>8726436</td>\n      <td>8726436</td>\n      <td>0</td>\n      <td>54.354218</td>\n      <td>who is aziz hashim</td>\n      <td>3.0</td>\n      <td>0</td>\n      <td>8726429</td>\n      <td>8726429</td>\n      <td>...</td>\n      <td>1</td>\n      <td>1</td>\n      <td>-1</td>\n      <td>0</td>\n      <td>0</td>\n      <td>0</td>\n      <td>1</td>\n      <td>1</td>\n      <td>0</td>\n      <td>0</td>\n    </tr>\n    <tr>\n      <th>4</th>\n      <td>1030303</td>\n      <td>8726436</td>\n      <td>8726436</td>\n      <td>0</td>\n      <td>54.354218</td>\n      <td>who is aziz hashim</td>\n      <td>3.0</td>\n      <td>0</td>\n      <td>8726437</td>\n      <td>8726437</td>\n      <td>...</td>\n      <td>1</td>\n      <td>1</td>\n      <td>0</td>\n      <td>0</td>\n      <td>0</td>\n      <td>0</td>\n      <td>-1</td>\n      <td>1</td>\n      <td>0</td>\n      <td>-1</td>\n    </tr>\n    <tr>\n      <th>...</th>\n      <td>...</td>\n      <td>...</td>\n      <td>...</td>\n      <td>...</td>\n      <td>...</td>\n      <td>...</td>\n      <td>...</td>\n      <td>...</td>\n      <td>...</td>\n      <td>...</td>\n      <td>...</td>\n      <td>...</td>\n      <td>...</td>\n      <td>...</td>\n      <td>...</td>\n      <td>...</td>\n      <td>...</td>\n      <td>...</td>\n      <td>...</td>\n      <td>...</td>\n      <td>...</td>\n    </tr>\n    <tr>\n      <th>5395</th>\n      <td>997622</td>\n      <td>7965342</td>\n      <td>7965342</td>\n      <td>9</td>\n      <td>30.023091</td>\n      <td>where is the show shameless filmed</td>\n      <td>0.0</td>\n      <td>0</td>\n      <td>4643397</td>\n      <td>4643397</td>\n      <td>...</td>\n      <td>1</td>\n      <td>-1</td>\n      <td>0</td>\n      <td>0</td>\n      <td>0</td>\n      <td>0</td>\n      <td>-1</td>\n      <td>1</td>\n      <td>0</td>\n      <td>-1</td>\n    </tr>\n    <tr>\n      <th>5396</th>\n      <td>997622</td>\n      <td>7965342</td>\n      <td>7965342</td>\n      <td>9</td>\n      <td>30.023091</td>\n      <td>where is the show shameless filmed</td>\n      <td>0.0</td>\n      <td>0</td>\n      <td>4518222</td>\n      <td>4518222</td>\n      <td>...</td>\n      <td>1</td>\n      <td>-1</td>\n      <td>0</td>\n      <td>0</td>\n      <td>0</td>\n      <td>0</td>\n      <td>1</td>\n      <td>1</td>\n      <td>0</td>\n      <td>0</td>\n    </tr>\n    <tr>\n      <th>5397</th>\n      <td>997622</td>\n      <td>7965342</td>\n      <td>7965342</td>\n      <td>9</td>\n      <td>30.023091</td>\n      <td>where is the show shameless filmed</td>\n      <td>0.0</td>\n      <td>0</td>\n      <td>4810071</td>\n      <td>4810071</td>\n      <td>...</td>\n      <td>-1</td>\n      <td>-1</td>\n      <td>0</td>\n      <td>0</td>\n      <td>0</td>\n      <td>0</td>\n      <td>-1</td>\n      <td>1</td>\n      <td>0</td>\n      <td>0</td>\n    </tr>\n    <tr>\n      <th>5398</th>\n      <td>997622</td>\n      <td>7965342</td>\n      <td>7965342</td>\n      <td>9</td>\n      <td>30.023091</td>\n      <td>where is the show shameless filmed</td>\n      <td>0.0</td>\n      <td>0</td>\n      <td>4558331</td>\n      <td>4558331</td>\n      <td>...</td>\n      <td>1</td>\n      <td>-1</td>\n      <td>0</td>\n      <td>0</td>\n      <td>0</td>\n      <td>0</td>\n      <td>1</td>\n      <td>1</td>\n      <td>0</td>\n      <td>0</td>\n    </tr>\n    <tr>\n      <th>5399</th>\n      <td>997622</td>\n      <td>7965342</td>\n      <td>7965342</td>\n      <td>9</td>\n      <td>30.023091</td>\n      <td>where is the show shameless filmed</td>\n      <td>0.0</td>\n      <td>0</td>\n      <td>7965342</td>\n      <td>7965342</td>\n      <td>...</td>\n      <td>0</td>\n      <td>0</td>\n      <td>0</td>\n      <td>0</td>\n      <td>0</td>\n      <td>0</td>\n      <td>0</td>\n      <td>0</td>\n      <td>0</td>\n      <td>0</td>\n    </tr>\n  </tbody>\n</table>\n<p>5400 rows × 53 columns</p>\n</div>"
     },
     "execution_count": 8,
     "metadata": {},
     "output_type": "execute_result"
    }
   ],
   "source": [
    "experiment.preferences"
   ],
   "metadata": {
    "collapsed": false,
    "pycharm": {
     "name": "#%%\n"
    }
   }
  },
  {
   "cell_type": "code",
   "execution_count": 12,
   "outputs": [
    {
     "name": "stderr",
     "output_type": "stream",
     "text": [
      "/tmp/ipykernel_74100/445467560.py:1: FutureWarning: Dropping of nuisance columns in DataFrame reductions (with 'numeric_only=None') is deprecated; in a future version this will raise TypeError.  Select only valid columns before calling the reduction.\n",
      "  experiment.inconsistent_pairs.mean()\n"
     ]
    },
    {
     "data": {
      "text/plain": "qid                                        inf\ndocid_a                           4.859517e+06\ndocno_a                                    inf\nrank_a                            6.326316e+00\nscore_a                           3.505220e+01\nlabel_a                           2.223158e+00\niteration_a                       0.000000e+00\ndocid_b                           4.742632e+06\ndocno_b                                    inf\nrank_b                            2.810526e+00\nscore_b                           3.751082e+01\nlabel_b                           4.757895e-01\niteration_b                       0.000000e+00\nORIG_preference                  -1.000000e+00\nORACLE_preference                 1.000000e+00\nArgUC_preference                 -2.105263e-02\nQTArg_preference                 -4.842105e-02\nQTPArg_preference                 2.105263e-02\naSL_preference                    2.105263e-03\nLNC1_preference                  -2.105263e-03\nTF-LNC_preference                 1.263158e-02\nLB1_preference                   -6.736842e-02\nPROX1_preference                  2.105263e-03\nPROX2_preference                  6.526316e-02\nPROX3_preference                 -2.947368e-02\nPROX4_preference                 -1.052632e-02\nPROX5_preference                 -6.105263e-02\nREG_preference                   -2.042105e-01\nREG-fastText_preference          -2.084211e-01\nANTI-REG_preference              -1.368421e-01\nANTI-REG-fastText_preference     -9.052632e-02\nASPECT-REG_preference             0.000000e+00\nASPECT-REG-fastText_preference    0.000000e+00\nAND_preference                   -6.315789e-02\nLEN-AND_preference               -2.105263e-03\nM-AND_preference                 -1.010526e-01\nLEN-M-AND_preference              6.315789e-03\nDIV_preference                    2.736842e-01\nLEN-DIV_preference                8.000000e-02\nRS-TF_preference                 -1.957895e-01\nRS-TF-IDF_preference             -9.831579e-01\nRS-BM25_preference               -9.957895e-01\nRS-PL2_preference                -4.778947e-01\nRS-QL_preference                 -2.757895e-01\nTFC1_preference                  -3.789474e-02\nTFC3_preference                   2.105263e-03\nM-TDC_preference                 -2.105263e-03\nLEN-M-TDC_preference             -2.105263e-03\nSTMC1_preference                 -7.368421e-02\nSTMC1-fastText_preference        -2.063158e-01\nSTMC2_preference                  2.105263e-03\nSTMC2-fastText_preference         4.210526e-03\ndtype: float64"
     },
     "execution_count": 12,
     "metadata": {},
     "output_type": "execute_result"
    }
   ],
   "source": [
    "experiment.inconsistent_pairs.mean()"
   ],
   "metadata": {
    "collapsed": false,
    "pycharm": {
     "name": "#%%\n"
    }
   }
  },
  {
   "cell_type": "code",
   "execution_count": 10,
   "outputs": [
    {
     "data": {
      "text/plain": "                  axiom  ORIG_consistency  ORACLE_consistency\n0                 ArgUC          0.494475            0.494505\n1                 QTArg          0.662539            0.538922\n2                QTPArg          0.591623            0.673367\n3                   aSL          0.462185            0.531746\n4                  LNC1          0.578947            0.562500\n5                TF-LNC          0.580420            0.613333\n6                   LB1          0.664957            0.625352\n7                 PROX1          0.568596            0.605611\n8                 PROX2          0.592907            0.634740\n9                 PROX3          0.666667            0.482759\n10                PROX4          0.618863            0.609195\n11                PROX5          0.617896            0.567982\n12                  REG          0.607470            0.526520\n13         REG-fastText          0.591817            0.518106\n14             ANTI-REG          0.614934            0.544321\n15    ANTI-REG-fastText          0.577869            0.544534\n16           ASPECT-REG               NaN                 NaN\n17  ASPECT-REG-fastText               NaN                 NaN\n18                  AND          0.812950            0.752809\n19              LEN-AND          0.811881            0.813559\n20                M-AND          0.799745            0.737288\n21            LEN-M-AND          0.821429            0.862500\n22                  DIV          0.380179            0.475954\n23              LEN-DIV          0.330357            0.491379\n24                RS-TF          0.615836            0.515094\n25            RS-TF-IDF          0.992139            0.619775\n26              RS-BM25          1.000000            0.619775\n27               RS-PL2          0.708730            0.496785\n28                RS-QL          0.687216            0.579582\n29                 TFC1          0.627119            0.531646\n30                 TFC3          0.000000            0.500000\n31                M-TDC          0.625000            0.666667\n32            LEN-M-TDC          1.000000            0.500000\n33                STMC1          0.530750            0.487264\n34       STMC1-fastText          0.567590            0.495582\n35                STMC2          0.560748            0.537190\n36       STMC2-fastText          0.500000            0.515152",
      "text/html": "<div>\n<style scoped>\n    .dataframe tbody tr th:only-of-type {\n        vertical-align: middle;\n    }\n\n    .dataframe tbody tr th {\n        vertical-align: top;\n    }\n\n    .dataframe thead th {\n        text-align: right;\n    }\n</style>\n<table border=\"1\" class=\"dataframe\">\n  <thead>\n    <tr style=\"text-align: right;\">\n      <th></th>\n      <th>axiom</th>\n      <th>ORIG_consistency</th>\n      <th>ORACLE_consistency</th>\n    </tr>\n  </thead>\n  <tbody>\n    <tr>\n      <th>0</th>\n      <td>ArgUC</td>\n      <td>0.494475</td>\n      <td>0.494505</td>\n    </tr>\n    <tr>\n      <th>1</th>\n      <td>QTArg</td>\n      <td>0.662539</td>\n      <td>0.538922</td>\n    </tr>\n    <tr>\n      <th>2</th>\n      <td>QTPArg</td>\n      <td>0.591623</td>\n      <td>0.673367</td>\n    </tr>\n    <tr>\n      <th>3</th>\n      <td>aSL</td>\n      <td>0.462185</td>\n      <td>0.531746</td>\n    </tr>\n    <tr>\n      <th>4</th>\n      <td>LNC1</td>\n      <td>0.578947</td>\n      <td>0.562500</td>\n    </tr>\n    <tr>\n      <th>5</th>\n      <td>TF-LNC</td>\n      <td>0.580420</td>\n      <td>0.613333</td>\n    </tr>\n    <tr>\n      <th>6</th>\n      <td>LB1</td>\n      <td>0.664957</td>\n      <td>0.625352</td>\n    </tr>\n    <tr>\n      <th>7</th>\n      <td>PROX1</td>\n      <td>0.568596</td>\n      <td>0.605611</td>\n    </tr>\n    <tr>\n      <th>8</th>\n      <td>PROX2</td>\n      <td>0.592907</td>\n      <td>0.634740</td>\n    </tr>\n    <tr>\n      <th>9</th>\n      <td>PROX3</td>\n      <td>0.666667</td>\n      <td>0.482759</td>\n    </tr>\n    <tr>\n      <th>10</th>\n      <td>PROX4</td>\n      <td>0.618863</td>\n      <td>0.609195</td>\n    </tr>\n    <tr>\n      <th>11</th>\n      <td>PROX5</td>\n      <td>0.617896</td>\n      <td>0.567982</td>\n    </tr>\n    <tr>\n      <th>12</th>\n      <td>REG</td>\n      <td>0.607470</td>\n      <td>0.526520</td>\n    </tr>\n    <tr>\n      <th>13</th>\n      <td>REG-fastText</td>\n      <td>0.591817</td>\n      <td>0.518106</td>\n    </tr>\n    <tr>\n      <th>14</th>\n      <td>ANTI-REG</td>\n      <td>0.614934</td>\n      <td>0.544321</td>\n    </tr>\n    <tr>\n      <th>15</th>\n      <td>ANTI-REG-fastText</td>\n      <td>0.577869</td>\n      <td>0.544534</td>\n    </tr>\n    <tr>\n      <th>16</th>\n      <td>ASPECT-REG</td>\n      <td>NaN</td>\n      <td>NaN</td>\n    </tr>\n    <tr>\n      <th>17</th>\n      <td>ASPECT-REG-fastText</td>\n      <td>NaN</td>\n      <td>NaN</td>\n    </tr>\n    <tr>\n      <th>18</th>\n      <td>AND</td>\n      <td>0.812950</td>\n      <td>0.752809</td>\n    </tr>\n    <tr>\n      <th>19</th>\n      <td>LEN-AND</td>\n      <td>0.811881</td>\n      <td>0.813559</td>\n    </tr>\n    <tr>\n      <th>20</th>\n      <td>M-AND</td>\n      <td>0.799745</td>\n      <td>0.737288</td>\n    </tr>\n    <tr>\n      <th>21</th>\n      <td>LEN-M-AND</td>\n      <td>0.821429</td>\n      <td>0.862500</td>\n    </tr>\n    <tr>\n      <th>22</th>\n      <td>DIV</td>\n      <td>0.380179</td>\n      <td>0.475954</td>\n    </tr>\n    <tr>\n      <th>23</th>\n      <td>LEN-DIV</td>\n      <td>0.330357</td>\n      <td>0.491379</td>\n    </tr>\n    <tr>\n      <th>24</th>\n      <td>RS-TF</td>\n      <td>0.615836</td>\n      <td>0.515094</td>\n    </tr>\n    <tr>\n      <th>25</th>\n      <td>RS-TF-IDF</td>\n      <td>0.992139</td>\n      <td>0.619775</td>\n    </tr>\n    <tr>\n      <th>26</th>\n      <td>RS-BM25</td>\n      <td>1.000000</td>\n      <td>0.619775</td>\n    </tr>\n    <tr>\n      <th>27</th>\n      <td>RS-PL2</td>\n      <td>0.708730</td>\n      <td>0.496785</td>\n    </tr>\n    <tr>\n      <th>28</th>\n      <td>RS-QL</td>\n      <td>0.687216</td>\n      <td>0.579582</td>\n    </tr>\n    <tr>\n      <th>29</th>\n      <td>TFC1</td>\n      <td>0.627119</td>\n      <td>0.531646</td>\n    </tr>\n    <tr>\n      <th>30</th>\n      <td>TFC3</td>\n      <td>0.000000</td>\n      <td>0.500000</td>\n    </tr>\n    <tr>\n      <th>31</th>\n      <td>M-TDC</td>\n      <td>0.625000</td>\n      <td>0.666667</td>\n    </tr>\n    <tr>\n      <th>32</th>\n      <td>LEN-M-TDC</td>\n      <td>1.000000</td>\n      <td>0.500000</td>\n    </tr>\n    <tr>\n      <th>33</th>\n      <td>STMC1</td>\n      <td>0.530750</td>\n      <td>0.487264</td>\n    </tr>\n    <tr>\n      <th>34</th>\n      <td>STMC1-fastText</td>\n      <td>0.567590</td>\n      <td>0.495582</td>\n    </tr>\n    <tr>\n      <th>35</th>\n      <td>STMC2</td>\n      <td>0.560748</td>\n      <td>0.537190</td>\n    </tr>\n    <tr>\n      <th>36</th>\n      <td>STMC2-fastText</td>\n      <td>0.500000</td>\n      <td>0.515152</td>\n    </tr>\n  </tbody>\n</table>\n</div>"
     },
     "execution_count": 10,
     "metadata": {},
     "output_type": "execute_result"
    }
   ],
   "source": [
    "experiment.preference_consistency"
   ],
   "metadata": {
    "collapsed": false,
    "pycharm": {
     "name": "#%%\n"
    }
   }
  },
  {
   "cell_type": "code",
   "execution_count": 11,
   "outputs": [
    {
     "data": {
      "text/plain": "                  axiom  axiom == 0  axiom == ORIG  axiom != ORIG\n0                 ArgUC        2068            179            183\n1                 QTArg        2107            214            109\n2                QTPArg        2048            226            156\n3                   aSL        2192            110            128\n4                  LNC1        2373             33             24\n5                TF-LNC        2287             83             60\n6                   LB1        1845            389            196\n7                 PROX1        1169            717            544\n8                 PROX2        1133            769            528\n9                 PROX3        2340             60             30\n10                PROX4        1656            479            295\n11                PROX5        1603            511            316\n12                  REG        1011            862            557\n13         REG-fastText         328           1244            858\n14             ANTI-REG        1064            840            526\n15    ANTI-REG-fastText         478           1128            824\n16           ASPECT-REG        2430              0              0\n17  ASPECT-REG-fastText        2430              0              0\n18                  AND        1874            452            104\n19              LEN-AND        2329             82             19\n20                M-AND        1646            627            157\n21            LEN-M-AND        2290            115             25\n22                  DIV          89            890           1451\n23              LEN-DIV        1982            148            300\n24                RS-TF         384           1260            786\n25            RS-TF-IDF          13           2398             19\n26              RS-BM25          13           2417              0\n27               RS-PL2          13           1713            704\n28                RS-QL          13           1661            756\n29                 TFC1        2135            185            110\n30                 TFC3        2428              0              2\n31                M-TDC        2422              5              3\n32            LEN-M-TDC        2428              2              0\n33                STMC1          56           1260           1114\n34       STMC1-fastText          11           1373           1046\n35                STMC2        2216            120             94\n36       STMC2-fastText        2124            153            153",
      "text/html": "<div>\n<style scoped>\n    .dataframe tbody tr th:only-of-type {\n        vertical-align: middle;\n    }\n\n    .dataframe tbody tr th {\n        vertical-align: top;\n    }\n\n    .dataframe thead th {\n        text-align: right;\n    }\n</style>\n<table border=\"1\" class=\"dataframe\">\n  <thead>\n    <tr style=\"text-align: right;\">\n      <th></th>\n      <th>axiom</th>\n      <th>axiom == 0</th>\n      <th>axiom == ORIG</th>\n      <th>axiom != ORIG</th>\n    </tr>\n  </thead>\n  <tbody>\n    <tr>\n      <th>0</th>\n      <td>ArgUC</td>\n      <td>2068</td>\n      <td>179</td>\n      <td>183</td>\n    </tr>\n    <tr>\n      <th>1</th>\n      <td>QTArg</td>\n      <td>2107</td>\n      <td>214</td>\n      <td>109</td>\n    </tr>\n    <tr>\n      <th>2</th>\n      <td>QTPArg</td>\n      <td>2048</td>\n      <td>226</td>\n      <td>156</td>\n    </tr>\n    <tr>\n      <th>3</th>\n      <td>aSL</td>\n      <td>2192</td>\n      <td>110</td>\n      <td>128</td>\n    </tr>\n    <tr>\n      <th>4</th>\n      <td>LNC1</td>\n      <td>2373</td>\n      <td>33</td>\n      <td>24</td>\n    </tr>\n    <tr>\n      <th>5</th>\n      <td>TF-LNC</td>\n      <td>2287</td>\n      <td>83</td>\n      <td>60</td>\n    </tr>\n    <tr>\n      <th>6</th>\n      <td>LB1</td>\n      <td>1845</td>\n      <td>389</td>\n      <td>196</td>\n    </tr>\n    <tr>\n      <th>7</th>\n      <td>PROX1</td>\n      <td>1169</td>\n      <td>717</td>\n      <td>544</td>\n    </tr>\n    <tr>\n      <th>8</th>\n      <td>PROX2</td>\n      <td>1133</td>\n      <td>769</td>\n      <td>528</td>\n    </tr>\n    <tr>\n      <th>9</th>\n      <td>PROX3</td>\n      <td>2340</td>\n      <td>60</td>\n      <td>30</td>\n    </tr>\n    <tr>\n      <th>10</th>\n      <td>PROX4</td>\n      <td>1656</td>\n      <td>479</td>\n      <td>295</td>\n    </tr>\n    <tr>\n      <th>11</th>\n      <td>PROX5</td>\n      <td>1603</td>\n      <td>511</td>\n      <td>316</td>\n    </tr>\n    <tr>\n      <th>12</th>\n      <td>REG</td>\n      <td>1011</td>\n      <td>862</td>\n      <td>557</td>\n    </tr>\n    <tr>\n      <th>13</th>\n      <td>REG-fastText</td>\n      <td>328</td>\n      <td>1244</td>\n      <td>858</td>\n    </tr>\n    <tr>\n      <th>14</th>\n      <td>ANTI-REG</td>\n      <td>1064</td>\n      <td>840</td>\n      <td>526</td>\n    </tr>\n    <tr>\n      <th>15</th>\n      <td>ANTI-REG-fastText</td>\n      <td>478</td>\n      <td>1128</td>\n      <td>824</td>\n    </tr>\n    <tr>\n      <th>16</th>\n      <td>ASPECT-REG</td>\n      <td>2430</td>\n      <td>0</td>\n      <td>0</td>\n    </tr>\n    <tr>\n      <th>17</th>\n      <td>ASPECT-REG-fastText</td>\n      <td>2430</td>\n      <td>0</td>\n      <td>0</td>\n    </tr>\n    <tr>\n      <th>18</th>\n      <td>AND</td>\n      <td>1874</td>\n      <td>452</td>\n      <td>104</td>\n    </tr>\n    <tr>\n      <th>19</th>\n      <td>LEN-AND</td>\n      <td>2329</td>\n      <td>82</td>\n      <td>19</td>\n    </tr>\n    <tr>\n      <th>20</th>\n      <td>M-AND</td>\n      <td>1646</td>\n      <td>627</td>\n      <td>157</td>\n    </tr>\n    <tr>\n      <th>21</th>\n      <td>LEN-M-AND</td>\n      <td>2290</td>\n      <td>115</td>\n      <td>25</td>\n    </tr>\n    <tr>\n      <th>22</th>\n      <td>DIV</td>\n      <td>89</td>\n      <td>890</td>\n      <td>1451</td>\n    </tr>\n    <tr>\n      <th>23</th>\n      <td>LEN-DIV</td>\n      <td>1982</td>\n      <td>148</td>\n      <td>300</td>\n    </tr>\n    <tr>\n      <th>24</th>\n      <td>RS-TF</td>\n      <td>384</td>\n      <td>1260</td>\n      <td>786</td>\n    </tr>\n    <tr>\n      <th>25</th>\n      <td>RS-TF-IDF</td>\n      <td>13</td>\n      <td>2398</td>\n      <td>19</td>\n    </tr>\n    <tr>\n      <th>26</th>\n      <td>RS-BM25</td>\n      <td>13</td>\n      <td>2417</td>\n      <td>0</td>\n    </tr>\n    <tr>\n      <th>27</th>\n      <td>RS-PL2</td>\n      <td>13</td>\n      <td>1713</td>\n      <td>704</td>\n    </tr>\n    <tr>\n      <th>28</th>\n      <td>RS-QL</td>\n      <td>13</td>\n      <td>1661</td>\n      <td>756</td>\n    </tr>\n    <tr>\n      <th>29</th>\n      <td>TFC1</td>\n      <td>2135</td>\n      <td>185</td>\n      <td>110</td>\n    </tr>\n    <tr>\n      <th>30</th>\n      <td>TFC3</td>\n      <td>2428</td>\n      <td>0</td>\n      <td>2</td>\n    </tr>\n    <tr>\n      <th>31</th>\n      <td>M-TDC</td>\n      <td>2422</td>\n      <td>5</td>\n      <td>3</td>\n    </tr>\n    <tr>\n      <th>32</th>\n      <td>LEN-M-TDC</td>\n      <td>2428</td>\n      <td>2</td>\n      <td>0</td>\n    </tr>\n    <tr>\n      <th>33</th>\n      <td>STMC1</td>\n      <td>56</td>\n      <td>1260</td>\n      <td>1114</td>\n    </tr>\n    <tr>\n      <th>34</th>\n      <td>STMC1-fastText</td>\n      <td>11</td>\n      <td>1373</td>\n      <td>1046</td>\n    </tr>\n    <tr>\n      <th>35</th>\n      <td>STMC2</td>\n      <td>2216</td>\n      <td>120</td>\n      <td>94</td>\n    </tr>\n    <tr>\n      <th>36</th>\n      <td>STMC2-fastText</td>\n      <td>2124</td>\n      <td>153</td>\n      <td>153</td>\n    </tr>\n  </tbody>\n</table>\n</div>"
     },
     "execution_count": 11,
     "metadata": {},
     "output_type": "execute_result"
    }
   ],
   "source": [
    "experiment.preference_distribution"
   ],
   "metadata": {
    "collapsed": false,
    "pycharm": {
     "name": "#%%\n"
    }
   }
  },
  {
   "cell_type": "code",
   "execution_count": 11,
   "outputs": [],
   "source": [],
   "metadata": {
    "collapsed": false,
    "pycharm": {
     "name": "#%%\n"
    }
   }
  }
 ],
 "metadata": {
  "kernelspec": {
   "display_name": "Python 3",
   "language": "python",
   "name": "python3"
  },
  "language_info": {
   "codemirror_mode": {
    "name": "ipython",
    "version": 2
   },
   "file_extension": ".py",
   "mimetype": "text/x-python",
   "name": "python",
   "nbconvert_exporter": "python",
   "pygments_lexer": "ipython2",
   "version": "2.7.6"
  }
 },
 "nbformat": 4,
 "nbformat_minor": 0
}